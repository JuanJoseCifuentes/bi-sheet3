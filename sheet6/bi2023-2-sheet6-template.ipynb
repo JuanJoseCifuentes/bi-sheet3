{
 "cells": [
  {
   "cell_type": "code",
   "execution_count": null,
   "metadata": {},
   "outputs": [],
   "source": [
    "import numpy as np\n",
    "import pandas as pd\n",
    "from matplotlib import pyplot as plt\n",
    "import seaborn as sns\n",
    "import itertools"
   ]
  },
  {
   "cell_type": "markdown",
   "metadata": {},
   "source": [
    "# Exercise 1"
   ]
  },
  {
   "cell_type": "code",
   "execution_count": null,
   "metadata": {},
   "outputs": [],
   "source": [
    "def getDistances(A):"
   ]
  },
  {
   "cell_type": "code",
   "execution_count": null,
   "metadata": {},
   "outputs": [],
   "source": [
    "def getW(D, U, V):"
   ]
  },
  {
   "cell_type": "code",
   "execution_count": null,
   "metadata": {},
   "outputs": [],
   "source": [
    "def getWIn(D, C):\n",
    "\n",
    "\n",
    "\n",
    "def getWOut(D, C):"
   ]
  },
  {
   "cell_type": "code",
   "execution_count": null,
   "metadata": {},
   "outputs": [],
   "source": [
    "def getNIn(C):\n",
    "    \n",
    "\n",
    "\n",
    "def getNOut(C):"
   ]
  },
  {
   "cell_type": "code",
   "execution_count": null,
   "metadata": {},
   "outputs": [],
   "source": [
    "def getBetaCV(A, C):"
   ]
  },
  {
   "cell_type": "code",
   "execution_count": null,
   "metadata": {},
   "outputs": [],
   "source": [
    "def getCIndex(A, C):"
   ]
  },
  {
   "cell_type": "code",
   "execution_count": null,
   "metadata": {},
   "outputs": [],
   "source": [
    "def getNormalizedCut(A, C):"
   ]
  },
  {
   "cell_type": "code",
   "execution_count": null,
   "metadata": {},
   "outputs": [],
   "source": [
    "def getDunn(A, C):"
   ]
  },
  {
   "cell_type": "code",
   "execution_count": null,
   "metadata": {},
   "outputs": [],
   "source": [
    "def getDaviesBouldin(A, C):"
   ]
  },
  {
   "cell_type": "code",
   "execution_count": null,
   "metadata": {},
   "outputs": [],
   "source": [
    "def getSilhouette(A, C):"
   ]
  },
  {
   "cell_type": "code",
   "execution_count": null,
   "metadata": {},
   "outputs": [],
   "source": [
    "def getMetric(A, C, metric):"
   ]
  },
  {
   "cell_type": "markdown",
   "metadata": {},
   "source": [
    "## Testing"
   ]
  },
  {
   "cell_type": "code",
   "execution_count": null,
   "metadata": {},
   "outputs": [],
   "source": [
    "# Test weights\n",
    "import pandas as pd_test\n",
    "import numpy as np_test\n",
    "dfIrisTest = pd_test.read_csv(\"https://raw.githubusercontent.com/uiuc-cse/data-fa14/gh-pages/data/iris.csv\")\n",
    "A_Iris_Test = dfIrisTest[dfIrisTest.columns[:4]].astype(float)\n",
    "C_Iris_Test = dfIrisTest[dfIrisTest.columns[4]]\n",
    "D_Iris_Test = getDistances(A_Iris_Test)\n",
    "C1 = np.where(C_Iris_Test == 'setosa')[0]\n",
    "C2 = np.where(C_Iris_Test == 'versicolor')[0]\n",
    "C3 = np.where(C_Iris_Test == 'virginica')[0]\n",
    "CList = [C1, C2, C3]\n",
    "\n",
    "print (\"\\nTest Weight Measures\\n------------------\")\n",
    "expectedW = {\n",
    "    (0,1): 8246,\n",
    "    (0,2): 12056,\n",
    "    (1,2): 4606\n",
    "}\n",
    "wSummary = \"W: \"\n",
    "wFailed = False\n",
    "for i in range(3):\n",
    "    for j in range(i):\n",
    "        p1 = (i,j)\n",
    "        p2 = (j,i)\n",
    "        W1 = np_test.round(getW(D_Iris_Test, CList[i], CList[j]))\n",
    "        W2 = np_test.round(getW(D_Iris_Test, CList[j], CList[i]))\n",
    "        if W1 != W2:\n",
    "            if not wFailed:\n",
    "                wSummary += \"failed\"\n",
    "            wSummary += \"\\n\\tasymmetry of W: \" + str(W1) + \" != \" + str(W2)\n",
    "            wFailed = True\n",
    "        \n",
    "        if W1 != expectedW[p2]:\n",
    "            if not wFailed:\n",
    "                wSummary += \"failed\"\n",
    "            wSummary += \"\\n\\tunexpected value of W: \" + str(W1) + \" instead of expected \" + str(expectedW[p2])\n",
    "            wFailed = True\n",
    "if not wFailed:\n",
    "    wSummary += \"ok\"\n",
    "print(wSummary)\n",
    "expectedWIn = 3518\n",
    "expectedWOut = 24908\n",
    "expectedNIn = 3675\n",
    "expectedNOut = 7500\n",
    "print(\"WIn:\", \"ok\" if np_test.abs(np_test.round(getWIn(D_Iris_Test, C_Iris_Test)) - expectedWIn) < 2 else \"failed\")\n",
    "print(\"WOut:\", \"ok\" if np_test.abs(np_test.round(getWOut(D_Iris_Test, C_Iris_Test)) - expectedWOut) < 2 else \"failed\")\n",
    "print(\"NIn:\", \"ok\" if getNIn(C_Iris_Test) == 3675 else \"failed\")\n",
    "print(\"NOut:\", \"ok\" if getNOut(C_Iris_Test) == 7500 else \"failed\")"
   ]
  },
  {
   "cell_type": "code",
   "execution_count": null,
   "metadata": {},
   "outputs": [],
   "source": [
    "# Test weights\n",
    "import pandas as pd_test\n",
    "import numpy as np_test\n",
    "dfIrisTest = pd_test.read_csv(\"https://raw.githubusercontent.com/uiuc-cse/data-fa14/gh-pages/data/iris.csv\")\n",
    "A_Iris_Test = dfIrisTest[dfIrisTest.columns[:4]].astype(float)\n",
    "C_Iris_Test = dfIrisTest[dfIrisTest.columns[4]]\n",
    "D_Iris_Test = getDistances(A_Iris_Test)\n",
    "\n",
    "# Test metrics\n",
    "print (\"\\nTest Metrics\\n------------------\")\n",
    "expected = {\n",
    "    \"beta\": 0.2882861014913346,\n",
    "    \"cindex\": 0.046803774122703735,\n",
    "    \"nc\": 2.6150343040385264,\n",
    "    \"dunn\": 0.05848053214719304,\n",
    "    \"db\": 0.8445815484442534,\n",
    "    \"sil\": 0.5032506980665507\n",
    "}\n",
    "for m in expected:\n",
    "    e = np.round(expected[m], 2)\n",
    "    a = getMetric(A_Iris_Test, C_Iris_Test, m)\n",
    "    a = np.round(a, 2) if not a is None else None\n",
    "    print(m + \":\\t\", \"ok\" if e == a else \"failed. Expected \" + str(e) + \" but saw \" + str(a))"
   ]
  },
  {
   "cell_type": "markdown",
   "metadata": {},
   "source": [
    "# Exercise 2"
   ]
  },
  {
   "cell_type": "code",
   "execution_count": null,
   "metadata": {},
   "outputs": [],
   "source": [
    "def plotMetrics(D,kmeans_eps,dbscan_configs,l=100):"
   ]
  },
  {
   "cell_type": "code",
   "execution_count": null,
   "metadata": {},
   "outputs": [],
   "source": [
    "def plotClusters(D,C,dimX,dimY,dimZ=None,ax=None):\n",
    " h=type(D)==pd.DataFrame\n",
    " W=D.columns[dimX]if h else dimX\n",
    " X=D.columns[dimY]if h else dimY\n",
    " b=D.columns[dimZ]if h and not dimZ is None else dimZ\n",
    " if type(D)==pd.DataFrame:\n",
    "  D=D.values\n",
    " x=np.unique(C)\n",
    " K=not dimZ is None\n",
    " if ax is None:\n",
    "  if K:\n",
    "   I=plt.figure()\n",
    "   ax=I.add_subplot(111,projection='3d')\n",
    "  else:\n",
    "   I,ax=plt.subplots()\n",
    " for ci in x:\n",
    "  f=np.where(C==ci)[0]\n",
    "  if K:\n",
    "   ax.scatter(D[f,dimX],D[f,dimY],D[f,dimZ])\n",
    "  else:\n",
    "   ax.scatter(D[f,dimX],D[f,dimY])\n",
    " ax.set_xlabel(W)\n",
    " ax.set_ylabel(X)\n",
    " if K:\n",
    "  ax.set_zlabel(b)"
   ]
  },
  {
   "cell_type": "code",
   "execution_count": null,
   "metadata": {},
   "outputs": [],
   "source": [
    "def kMeans(D,k,eps=0.01,mu=None,max_iter=20):\n",
    " d=D.shape[1]\n",
    " if mu is None:\n",
    "  mu=np.random.rand(k,d)*(np.max(D,axis=0)-np.min(D,axis=0))+np.min(D,axis=0)\n",
    " if type(mu)==list:\n",
    "  mu=np.array(mu)\n",
    " s=False\n",
    " g=0\n",
    " while not s:\n",
    "  C=[np.argmin([np.linalg.norm(mu[j]-x)for j in range(k)if not any(np.isnan(mu[j]))])for x in D]\n",
    "  n=np.zeros(mu.shape)\n",
    "  s=True\n",
    "  for i in range(k):\n",
    "   J=[D[j]for j in range(len(D))if C[j]==i]\n",
    "   if len(J)>0:\n",
    "    n[i]=np.mean(J,axis=0)\n",
    "   else:\n",
    "    n[i]=np.random.rand(1,d)*(np.max(D,axis=0)-np.min(D,axis=0))+np.min(D,axis=0)\n",
    "   if np.linalg.norm(mu[i]-n[i])>eps:\n",
    "    s=False\n",
    "  mu=n\n",
    "  g+=1\n",
    "  if g>=max_iter:\n",
    "   s=True\n",
    " return C,mu"
   ]
  },
  {
   "cell_type": "code",
   "execution_count": null,
   "metadata": {},
   "outputs": [],
   "source": [
    "df_iris = pd.read_csv(\"iris.csv\")\n",
    "df_flights = pd.read_csv(\"delayedflights-small.csv\")\n",
    "df_mall = pd.read_csv(\"Mall_Customers.csv\")"
   ]
  }
 ],
 "metadata": {
  "kernelspec": {
   "display_name": "Python 3 (ipykernel)",
   "language": "python",
   "name": "python3"
  },
  "language_info": {
   "codemirror_mode": {
    "name": "ipython",
    "version": 3
   },
   "file_extension": ".py",
   "mimetype": "text/x-python",
   "name": "python",
   "nbconvert_exporter": "python",
   "pygments_lexer": "ipython3",
   "version": "3.10.11"
  }
 },
 "nbformat": 4,
 "nbformat_minor": 4
}
