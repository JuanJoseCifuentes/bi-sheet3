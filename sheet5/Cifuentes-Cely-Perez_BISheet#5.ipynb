{
 "cells": [
  {
   "cell_type": "markdown",
   "metadata": {},
   "source": [
    "# Exercise 1"
   ]
  },
  {
   "cell_type": "code",
   "execution_count": null,
   "metadata": {},
   "outputs": [],
   "source": [
    "##Ejemplo"
   ]
  },
  {
   "cell_type": "markdown",
   "metadata": {},
   "source": [
    "# Exercise 2"
   ]
  },
  {
   "cell_type": "code",
   "execution_count": null,
   "metadata": {},
   "outputs": [],
   "source": [
    "def kMeans(A, k, eps, mu = None):\n",
    "    #Implementacion"
   ]
  },
  {
   "cell_type": "code",
   "execution_count": 6,
   "metadata": {},
   "outputs": [],
   "source": [
    "import numpy as np\n",
    "import pandas as pd\n",
    "from sklearn.metrics import pairwise_distances\n",
    "from sklearn import datasets\n",
    "\n",
    "df_iris = pd.read_csv(\"iris_pca.csv\")\n",
    "\n",
    "def DBSCAN(D, epsilon, minpts):\n",
    "    n = len(D)\n",
    "    Core = []\n",
    "    cluster_assignments = [-1] * n\n",
    "    \n",
    "    for x_i in range(n):\n",
    "        N_epsilon_x_i = []\n",
    "        cluster_id = -1\n",
    "        if len(N_epsilon_x_i) >= minpts:\n",
    "            Core.append(x_i)\n",
    "\n",
    "    k = 0\n",
    "    \n",
    "    for x_i in Core:\n",
    "        if cluster_assignments[x_i] == -1:\n",
    "            k += 1\n",
    "            cluster_assignments[x_i] = k\n",
    "            DENSITYCONNECTED(x_i, k, cluster_assignments, Core)\n",
    "\n",
    "    C = [[] for _ in range(k)]\n",
    "    Noise = []\n",
    "    Border = []\n",
    "\n",
    "    for i in range(n):\n",
    "        cluster_id = cluster_assignments[i]\n",
    "        if cluster_id != -1:\n",
    "            C[cluster_id - 1].append(i)\n",
    "        else:\n",
    "            if i in Core:\n",
    "                Border.append(i)\n",
    "            else:\n",
    "                Noise.append(i)\n",
    "\n",
    "    return C, Core, Border, Noise\n",
    "\n",
    "def DENSITYCONNECTED(x, k, cluster_assignments, Core):\n",
    "    N_epsilon_x = []\n",
    "    for y in N_epsilon_x:\n",
    "        cluster_assignments[y] = k\n",
    "\n",
    "        if y in Core:\n",
    "            DENSITYCONNECTED(y, k, cluster_assignments, Core)\n",
    "\n"
   ]
  },
  {
   "cell_type": "markdown",
   "metadata": {},
   "source": [
    "# Exercise 3"
   ]
  },
  {
   "cell_type": "code",
   "execution_count": null,
   "metadata": {},
   "outputs": [],
   "source": [
    "def plotClusters(A, C, dimX, dimY, dimZ = None, ax = None):\n",
    "    #Implementacion"
   ]
  },
  {
   "cell_type": "code",
   "execution_count": null,
   "metadata": {},
   "outputs": [],
   "source": [
    "#Correr el codigo con PCA 18 veces ir plottear"
   ]
  }
 ],
 "metadata": {
  "kernelspec": {
   "display_name": "Python 3",
   "language": "python",
   "name": "python3"
  },
  "language_info": {
   "codemirror_mode": {
    "name": "ipython",
    "version": 3
   },
   "file_extension": ".py",
   "mimetype": "text/x-python",
   "name": "python",
   "nbconvert_exporter": "python",
   "pygments_lexer": "ipython3",
   "version": "3.11.4"
  },
  "orig_nbformat": 4
 },
 "nbformat": 4,
 "nbformat_minor": 2
}
