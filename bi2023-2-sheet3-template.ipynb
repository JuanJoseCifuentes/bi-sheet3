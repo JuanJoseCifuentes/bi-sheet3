{
 "cells": [
  {
   "cell_type": "code",
   "execution_count": 74,
   "metadata": {},
   "outputs": [],
   "source": [
    "import numpy as np\n",
    "import pandas as pd\n",
    "import numbers"
   ]
  },
  {
   "cell_type": "markdown",
   "metadata": {},
   "source": [
    "# Exercise 2.1"
   ]
  },
  {
   "cell_type": "markdown",
   "metadata": {},
   "source": [
    "## Item A"
   ]
  },
  {
   "cell_type": "code",
   "execution_count": 75,
   "metadata": {},
   "outputs": [],
   "source": [
    "def binarizeCategoricalAttributeVector(column):\n",
    "    categories = set(column)\n",
    "    categories = list(categories)\n",
    "    m = np.zeros(shape=(len(column), len(categories)))\n",
    "\n",
    "    for i in range(len(m)):\n",
    "        category = categories.index(column[i])\n",
    "        m[i][category] = 1\n",
    "\n",
    "    return m"
   ]
  },
  {
   "cell_type": "markdown",
   "metadata": {},
   "source": [
    "## Item B"
   ]
  },
  {
   "cell_type": "code",
   "execution_count": 76,
   "metadata": {},
   "outputs": [],
   "source": [
    "def getCategoricalAttributes(df):\n",
    "    categorical_columns = df.select_dtypes(include=['object'])\n",
    "\n",
    "    return categorical_columns.columns\n"
   ]
  },
  {
   "cell_type": "markdown",
   "metadata": {},
   "source": [
    "## Item C"
   ]
  },
  {
   "cell_type": "code",
   "execution_count": 77,
   "metadata": {},
   "outputs": [],
   "source": [
    "def readFrameAsMatrix(df):\n",
    "    categorical_columns = getCategoricalAttributes(df)\n",
    "    \n",
    "    for column in categorical_columns:\n",
    "        replacement = binarizeCategoricalAttributeVector(df[column])\n",
    "        \n",
    "        df = df.drop(columns=column)\n",
    "        df = pd.concat([df, pd.DataFrame(replacement)], axis=1)\n",
    "\n",
    "    frame = df.to_numpy()    \n",
    "    return frame"
   ]
  },
  {
   "cell_type": "markdown",
   "metadata": {},
   "source": [
    "## Item D"
   ]
  },
  {
   "cell_type": "code",
   "execution_count": 78,
   "metadata": {},
   "outputs": [
    {
     "name": "stdout",
     "output_type": "stream",
     "text": [
      "[[    25. 226802.      7. ...      0.      1.      0.]\n",
      " [    38.  89814.      9. ...      0.      1.      0.]\n",
      " [    28. 336951.     12. ...      0.      0.      1.]\n",
      " ...\n",
      " [    58. 151910.      9. ...      0.      1.      0.]\n",
      " [    22. 201490.      9. ...      0.      1.      0.]\n",
      " [    52. 287927.      9. ...      0.      0.      1.]]\n"
     ]
    }
   ],
   "source": [
    "dfCredit = pd.read_csv(\"credits.csv\")\n",
    "\n",
    "npCredit = readFrameAsMatrix(dfCredit)\n",
    "np.set_printoptions(suppress=True)\n",
    "print(npCredit)"
   ]
  },
  {
   "cell_type": "code",
   "execution_count": 79,
   "metadata": {},
   "outputs": [
    {
     "name": "stdout",
     "output_type": "stream",
     "text": [
      "-----------------\n",
      "Binarization check\n",
      "-----------------\n",
      "Dimension check: OK\n",
      "Occurring values: OK\n",
      "Coherence: OK\n",
      "-----------------\n",
      "Check of category detection\n",
      "-----------------\n",
      "Categorical attribute detection: OK\n",
      "-----------------\n",
      "Conversion check for data frames\n",
      "-----------------\n",
      "Outer Type check: OK\n",
      "Inner Type check: OK\n",
      "Dimensionality check: OK\n"
     ]
    }
   ],
   "source": [
    "def check_column_conversion(column):\n",
    "    M = binarizeCategoricalAttributeVector(column)\n",
    "    vals = list(np.unique(M))\n",
    "    sorted(vals)\n",
    "    print(\"-----------------\\nBinarization check\\n-----------------\")\n",
    "    print(\"Dimension check: \" + (\"OK\" if M.shape == (len(column), len(np.unique(column))) else \"FAIL\"))\n",
    "    print(\"Occurring values: \" + (\"OK\" if vals == [0, 1] else \"FAIL (there should only be 0s and 1s in the output.)\"))\n",
    "    print(\"Coherence: \" + (\"OK\" if all(np.sum(M, axis=1) == np.ones(len(column))) else \"FAIL (all rows must sum up to 1)\"))\n",
    "\n",
    "def check_category_detection(df, expectedcols):\n",
    "    print(\"-----------------\\nCheck of category detection\\n-----------------\")\n",
    "    act = getCategoricalAttributes(df)\n",
    "    missing = [c for c in expectedcols if not c in act]\n",
    "    unexpected = [c for c in act if not c in expectedcols]\n",
    "    print(\"Categorical attribute detection: \" + (\"OK\" if len(missing) + len(unexpected) == 0 else \"FAIL (undetected columns: \" + str(missing) + \", wrongly detected columns: \" + str(unexpected) + \")\"))\n",
    "    \n",
    "def check_frame_conversion(df, num_expected_columns):\n",
    "    print(\"-----------------\\nConversion check for data frames\\n-----------------\")\n",
    "    A = readFrameAsMatrix(df)\n",
    "    print(\"Outer Type check: \" + (\"OK\" if type(A) == np.ndarray else \"FAIL (not a numpy array but \" + str(type(A)) + \")\"))\n",
    "    print(\"Inner Type check: \" + (\"OK\" if A.dtype in [float, np.float32, np.float64] else \"FAIL (dtype of matrix should be something numeric like float and not \" + str(A.dtype) + \")\"))\n",
    "    print(\"Dimensionality check: \" + (\"OK\" if len(A) == len(df) and A.shape[1] == num_expected_columns else \"FAIL (expected shape \" + str(len(df)) + \" x \" + str(num_expected_columns) + \", but observed shape \" + str(len(A)) + \" x \" + str(A.shape[1]) + \")\"))\n",
    "\n",
    "\n",
    "## unit test for conversion functions\n",
    "dfCreditTest = pd.read_csv(\"credits.csv\")\n",
    "check_column_conversion(dfCreditTest.values[:,1])\n",
    "check_category_detection(dfCreditTest, ['workclass', 'education', 'marital-status', 'occupation', 'relationship', 'race', 'sex', 'native-country', 'class'])\n",
    "check_frame_conversion(dfCreditTest, 110)"
   ]
  },
  {
   "cell_type": "markdown",
   "metadata": {},
   "source": [
    "# Exercise 2.2"
   ]
  },
  {
   "cell_type": "markdown",
   "metadata": {},
   "source": [
    "## Item A"
   ]
  },
  {
   "cell_type": "code",
   "execution_count": 80,
   "metadata": {},
   "outputs": [],
   "source": [
    "def discretizeBasedOnThresholds(column, thresholds, names=None):\n",
    "    new_col = column\n",
    "\n",
    "    if names == None:\n",
    "        names = []\n",
    "        for i in range(len(thresholds)+1):\n",
    "            names.append(f'c{i}')\n",
    "\n",
    "    for i in range(len(thresholds)):\n",
    "        for element in range(len(new_col)):\n",
    "            if new_col[element] not in names:\n",
    "                if new_col[element] <= thresholds[i]:\n",
    "                    new_col[element] = names[i]\n",
    "\n",
    "    for element in range(len(new_col)):\n",
    "        if new_col[element] not in names:\n",
    "            new_col[element] = names[len(thresholds)]\n",
    "\n",
    "    return new_col"
   ]
  },
  {
   "cell_type": "markdown",
   "metadata": {},
   "source": [
    "## Item B"
   ]
  },
  {
   "cell_type": "code",
   "execution_count": 81,
   "metadata": {},
   "outputs": [],
   "source": [
    "def discretizeEqualLength(column, k, names = None):\n",
    "    thresholds = []\n",
    "    \n",
    "    min_value = np.min(column)\n",
    "    max_value = np.max(column)\n",
    "    w = (max_value - min_value) / k\n",
    "    \n",
    "    for i in range(k - 1):\n",
    "        v = min_value + (i+1) * w\n",
    "        thresholds.append(v)\n",
    "\n",
    "    return discretizeBasedOnThresholds(column, thresholds)\n",
    "    "
   ]
  },
  {
   "cell_type": "code",
   "execution_count": 82,
   "metadata": {},
   "outputs": [],
   "source": [
    "def discretizeEqualFrequency(column, k, names = None):\n",
    "    thresholds = []\n",
    "    \n",
    "    temp_col = column.copy()\n",
    "    temp_col.sort()\n",
    "    \n",
    "    for i in range(k - 1):\n",
    "        j = int((i+1) * len(temp_col) / k)\n",
    "        v = temp_col[j]\n",
    "        thresholds.append(v)\n",
    "\n",
    "    return discretizeBasedOnThresholds(column, thresholds)"
   ]
  },
  {
   "cell_type": "code",
   "execution_count": 83,
   "metadata": {},
   "outputs": [
    {
     "name": "stdout",
     "output_type": "stream",
     "text": [
      "Conversion test: OK\n",
      "Conversion test: OK\n",
      "Equal Length Discretization: OK\n",
      "Equal Count Discretization: OK\n"
     ]
    }
   ],
   "source": [
    "def test_discretization(column, thresholds, names, expected):\n",
    "    conv = discretizeBasedOnThresholds(column, thresholds, names)\n",
    "    print(\"Conversion test: \" + (\"OK\" if len(conv) == len(expected) and all(conv == expected) else \"FAIL (expected \\\"\" + str(expected) +\"\\\" but observed \\\"\" + str(conv) + \"\\\")\"))\n",
    "    \n",
    "def test_equal_length_discretization(arr, k, expected):\n",
    "    act = discretizeEqualLength(arr, k)\n",
    "    print (\"Equal Length Discretization: \" + (\"OK\" if all(act == expected) else \"FAIL (expected \\\"\" + str(expected) +\"\\\" but observed \\\"\" + str(act) + \"\\\")\"))\n",
    "    \n",
    "def test_equal_count_discretization(arr, k, expected):\n",
    "    act = discretizeEqualFrequency(arr, k)\n",
    "    print (\"Equal Count Discretization: \" + (\"OK\" if all(act == expected) else \"FAIL (expected \\\"\" + str(expected) +\"\\\" but observed \\\"\" + str(act) + \"\\\")\"))\n",
    "\n",
    "# reproduce results from the lecture\n",
    "dfIrisTest = pd.read_csv(\"https://raw.githubusercontent.com/uiuc-cse/data-fa14/gh-pages/data/iris.csv\")\n",
    "test_discretization(dfIrisTest.values[:,0], [5.2, 6.1, 7], [\"very short\", \"short\", \"long\", \"very long\"], [\"very short\", \"very short\", \"very short\", \"very short\", \"very short\", \"short\", \"very short\", \"very short\", \"very short\", \"very short\", \"short\", \"very short\", \"very short\", \"very short\", \"short\", \"short\", \"short\", \"very short\", \"short\", \"very short\", \"short\", \"very short\", \"very short\", \"very short\", \"very short\", \"very short\", \"very short\", \"very short\", \"very short\", \"very short\", \"very short\", \"short\", \"very short\", \"short\", \"very short\", \"very short\", \"short\", \"very short\", \"very short\", \"very short\", \"very short\", \"very short\", \"very short\", \"very short\", \"very short\", \"very short\", \"very short\", \"very short\", \"short\", \"very short\", \"long\", \"long\", \"long\", \"short\", \"long\", \"short\", \"long\", \"very short\", \"long\", \"very short\", \"very short\", \"short\", \"short\", \"short\", \"short\", \"long\", \"short\", \"short\", \"long\", \"short\", \"short\", \"short\", \"long\", \"short\", \"long\", \"long\", \"long\", \"long\", \"short\", \"short\", \"short\", \"short\", \"short\", \"short\", \"short\", \"short\", \"long\", \"long\", \"short\", \"short\", \"short\", \"short\", \"short\", \"very short\", \"short\", \"short\", \"short\", \"long\", \"very short\", \"short\", \"long\", \"short\", \"very long\", \"long\", \"long\", \"very long\", \"very short\", \"very long\", \"long\", \"very long\", \"long\", \"long\", \"long\", \"short\", \"short\", \"long\", \"long\", \"very long\", \"very long\", \"short\", \"long\", \"short\", \"very long\", \"long\", \"long\", \"very long\", \"long\", \"short\", \"long\", \"very long\", \"very long\", \"very long\", \"long\", \"long\", \"short\", \"very long\", \"long\", \"long\", \"short\", \"long\", \"long\", \"long\", \"short\", \"long\", \"long\", \"long\", \"long\", \"long\", \"long\", \"short\"])\n",
    "test_discretization(dfIrisTest.values[:,1], [2.8, 3.6], [\"short\", \"medium\", \"long\"], [\"medium\", \"medium\", \"medium\", \"medium\", \"medium\", \"long\", \"medium\", \"medium\", \"medium\", \"medium\", \"long\", \"medium\", \"medium\", \"medium\", \"long\", \"long\", \"long\", \"medium\", \"long\", \"long\", \"medium\", \"long\", \"medium\", \"medium\", \"medium\", \"medium\", \"medium\", \"medium\", \"medium\", \"medium\", \"medium\", \"medium\", \"long\", \"long\", \"medium\", \"medium\", \"medium\", \"medium\", \"medium\", \"medium\", \"medium\", \"short\", \"medium\", \"medium\", \"long\", \"medium\", \"long\", \"medium\", \"long\", \"medium\", \"medium\", \"medium\", \"medium\", \"short\", \"short\", \"short\", \"medium\", \"short\", \"medium\", \"short\", \"short\", \"medium\", \"short\", \"medium\", \"medium\", \"medium\", \"medium\", \"short\", \"short\", \"short\", \"medium\", \"short\", \"short\", \"short\", \"medium\", \"medium\", \"short\", \"medium\", \"medium\", \"short\", \"short\", \"short\", \"short\", \"short\", \"medium\", \"medium\", \"medium\", \"short\", \"medium\", \"short\", \"short\", \"medium\", \"short\", \"short\", \"short\", \"medium\", \"medium\", \"medium\", \"short\", \"short\", \"medium\", \"short\", \"medium\", \"medium\", \"medium\", \"medium\", \"short\", \"medium\", \"short\", \"medium\", \"medium\", \"short\", \"medium\", \"short\", \"short\", \"medium\", \"medium\", \"long\", \"short\", \"short\", \"medium\", \"short\", \"short\", \"short\", \"medium\", \"medium\", \"short\", \"medium\", \"short\", \"medium\", \"short\", \"long\", \"short\", \"short\", \"short\", \"medium\", \"medium\", \"medium\", \"medium\", \"medium\", \"medium\", \"medium\", \"short\", \"medium\", \"medium\", \"medium\", \"short\", \"medium\", \"medium\", \"medium\"])\n",
    "test_equal_length_discretization(dfIrisTest.values[:,0], 4, np.array([\"c0\", \"c0\", \"c0\", \"c0\", \"c0\", \"c1\", \"c0\", \"c0\", \"c0\", \"c0\", \"c1\", \"c0\", \"c0\", \"c0\", \"c1\", \"c1\", \"c1\", \"c0\", \"c1\", \"c0\", \"c1\", \"c0\", \"c0\", \"c0\", \"c0\", \"c0\", \"c0\", \"c0\", \"c0\", \"c0\", \"c0\", \"c1\", \"c0\", \"c1\", \"c0\", \"c0\", \"c1\", \"c0\", \"c0\", \"c0\", \"c0\", \"c0\", \"c0\", \"c0\", \"c0\", \"c0\", \"c0\", \"c0\", \"c1\", \"c0\", \"c2\", \"c2\", \"c2\", \"c1\", \"c2\", \"c1\", \"c2\", \"c0\", \"c2\", \"c0\", \"c0\", \"c1\", \"c1\", \"c1\", \"c1\", \"c2\", \"c1\", \"c1\", \"c2\", \"c1\", \"c1\", \"c1\", \"c2\", \"c1\", \"c2\", \"c2\", \"c2\", \"c2\", \"c1\", \"c1\", \"c1\", \"c1\", \"c1\", \"c1\", \"c1\", \"c1\", \"c2\", \"c2\", \"c1\", \"c1\", \"c1\", \"c1\", \"c1\", \"c0\", \"c1\", \"c1\", \"c1\", \"c2\", \"c0\", \"c1\", \"c2\", \"c1\", \"c3\", \"c2\", \"c2\", \"c3\", \"c0\", \"c3\", \"c2\", \"c3\", \"c2\", \"c2\", \"c2\", \"c1\", \"c1\", \"c2\", \"c2\", \"c3\", \"c3\", \"c1\", \"c2\", \"c1\", \"c3\", \"c2\", \"c2\", \"c3\", \"c2\", \"c1\", \"c2\", \"c3\", \"c3\", \"c3\", \"c2\", \"c2\", \"c1\", \"c3\", \"c2\", \"c2\", \"c1\", \"c2\", \"c2\", \"c2\", \"c1\", \"c2\", \"c2\", \"c2\", \"c2\", \"c2\", \"c2\", \"c1\"]))\n",
    "test_equal_count_discretization(dfIrisTest.values[:,0], 4, np.array([\"c0\", \"c0\", \"c0\", \"c0\", \"c0\", \"c1\", \"c0\", \"c0\", \"c0\", \"c0\", \"c1\", \"c0\", \"c0\", \"c0\", \"c1\", \"c1\", \"c1\", \"c0\", \"c1\", \"c0\", \"c1\", \"c0\", \"c0\", \"c0\", \"c0\", \"c0\", \"c0\", \"c1\", \"c1\", \"c0\", \"c0\", \"c1\", \"c1\", \"c1\", \"c0\", \"c0\", \"c1\", \"c0\", \"c0\", \"c0\", \"c0\", \"c0\", \"c0\", \"c0\", \"c0\", \"c0\", \"c0\", \"c0\", \"c1\", \"c0\", \"c3\", \"c2\", \"c3\", \"c1\", \"c3\", \"c1\", \"c2\", \"c0\", \"c3\", \"c1\", \"c0\", \"c2\", \"c2\", \"c2\", \"c1\", \"c3\", \"c1\", \"c1\", \"c2\", \"c1\", \"c2\", \"c2\", \"c2\", \"c2\", \"c2\", \"c3\", \"c3\", \"c3\", \"c2\", \"c1\", \"c1\", \"c1\", \"c1\", \"c2\", \"c1\", \"c2\", \"c3\", \"c2\", \"c1\", \"c1\", \"c1\", \"c2\", \"c1\", \"c0\", \"c1\", \"c1\", \"c1\", \"c2\", \"c0\", \"c1\", \"c2\", \"c1\", \"c3\", \"c2\", \"c3\", \"c3\", \"c0\", \"c3\", \"c3\", \"c3\", \"c3\", \"c2\", \"c3\", \"c1\", \"c1\", \"c2\", \"c3\", \"c3\", \"c3\", \"c2\", \"c3\", \"c1\", \"c3\", \"c2\", \"c3\", \"c3\", \"c2\", \"c2\", \"c2\", \"c3\", \"c3\", \"c3\", \"c2\", \"c2\", \"c2\", \"c3\", \"c2\", \"c2\", \"c2\", \"c3\", \"c3\", \"c3\", \"c1\", \"c3\", \"c3\", \"c3\", \"c2\", \"c3\", \"c2\", \"c2\"]))"
   ]
  }
 ],
 "metadata": {
  "kernelspec": {
   "display_name": "Python 3",
   "language": "python",
   "name": "python3"
  },
  "language_info": {
   "codemirror_mode": {
    "name": "ipython",
    "version": 3
   },
   "file_extension": ".py",
   "mimetype": "text/x-python",
   "name": "python",
   "nbconvert_exporter": "python",
   "pygments_lexer": "ipython3",
   "version": "3.11.0"
  }
 },
 "nbformat": 4,
 "nbformat_minor": 2
}
