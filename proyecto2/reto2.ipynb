{
 "cells": [
  {
   "cell_type": "code",
   "execution_count": 1,
   "metadata": {},
   "outputs": [],
   "source": [
    "import numpy as np\n",
    "import pandas as pd\n",
    "import scipy"
   ]
  },
  {
   "cell_type": "code",
   "execution_count": 2,
   "metadata": {},
   "outputs": [],
   "source": [
    "def eclat(db, minsup):\n",
    "    def generate_frequent_itemsets(P, minsup, F):\n",
    "        for i, p_i in enumerate(P):\n",
    "            Xa, t_Xa = p_i\n",
    "            if not isinstance(Xa, list):\n",
    "                Xa = [Xa]\n",
    "            F.append((Xa, len(t_Xa)))\n",
    "            Pa = []\n",
    "            for j in range(i + 1, len(P)):\n",
    "                Xb, t_Xb = P[j]\n",
    "                if not isinstance(Xb, list):\n",
    "                    Xb = [Xb]\n",
    "                if j > i:\n",
    "                    Xab = list(set(Xa).union(set(Xb)))\n",
    "                    Xab.sort()\n",
    "                    t_Xab = t_Xa.intersection(t_Xb)\n",
    "                    if len(t_Xab) >= minsup:\n",
    "                        Pa.append((Xab, t_Xab))\n",
    "            if len(Pa) != 0:\n",
    "                generate_frequent_itemsets(Pa, minsup, F)\n",
    "\n",
    "    P = {}\n",
    "    for i in range(len(db)):\n",
    "        for item in db[i]:\n",
    "            if item in P:\n",
    "                P[item].add(i)\n",
    "            else:\n",
    "                P[item] = {i}\n",
    "    P = list(P.items())\n",
    "    \n",
    "    condition = lambda x: len(x[1]) >= minsup\n",
    "    P = [item for item in P if condition(item)]\n",
    "\n",
    "    P = sorted(P, key=lambda x: x[0])\n",
    "    F = []\n",
    "    \n",
    "    generate_frequent_itemsets(P, minsup, F)\n",
    "\n",
    "    return [(F[i][0], F[i][1]) for i in range(len(F))]\n"
   ]
  },
  {
   "cell_type": "code",
   "execution_count": 3,
   "metadata": {},
   "outputs": [],
   "source": [
    "def getStrongRulesFromFrequentSets(fsets, minconf):\n",
    "    strong_rules = []\n",
    "    fsets_sets = [item[0] for item in fsets]\n",
    "    fsets_sup = [item[1] for item in fsets]\n",
    "    for i, frequentSet in enumerate(fsets_sets):\n",
    "        if len(frequentSet) >= 2:\n",
    "            A = getSubsets(set=frequentSet)\n",
    "            while len(A) != 0:\n",
    "                X = A[-1]\n",
    "                A.remove(X)\n",
    "                index_x = fsets_sets.index(X)\n",
    "                c = fsets_sup[i] / fsets_sup[index_x]\n",
    "                if c >= minconf:\n",
    "                    Y = list(frequentSet)\n",
    "                    for item in X:\n",
    "                        Y.remove(item)\n",
    "                    strong_rules.append((X, Y, fsets_sup[i], c))\n",
    "                else:\n",
    "                    if len(X) >= 2:\n",
    "                        W_sets = getSubsets(X)\n",
    "                        for W in W_sets:\n",
    "                            if W in A:\n",
    "                                A.remove(W)\n",
    "\n",
    "    return strong_rules\n",
    "\n",
    "def getSubsets(set):\n",
    "    subsets = []\n",
    "    x = len(set)\n",
    "    for i in range(1 << x):\n",
    "       subsets.append([set[j] for j in range(x) if (i & (1 << j))])\n",
    "\n",
    "    subsets.pop(-1)\n",
    "    subsets.pop(0)\n",
    "\n",
    "    return subsets"
   ]
  },
  {
   "cell_type": "code",
   "execution_count": 4,
   "metadata": {},
   "outputs": [],
   "source": [
    "def getStrongRulesForDatabase(db, minsup, minconf):\n",
    "    fsets = eclat(db, minsup)\n",
    "    strong_rules = getStrongRulesFromFrequentSets(fsets, minconf)\n",
    "    return strong_rules"
   ]
  },
  {
   "cell_type": "code",
   "execution_count": 35,
   "metadata": {},
   "outputs": [
    {
     "name": "stdout",
     "output_type": "stream",
     "text": [
      "[(3, 4), (4, 5)]\n"
     ]
    },
    {
     "data": {
      "text/plain": [
       "(2, 3)"
      ]
     },
     "execution_count": 35,
     "metadata": {},
     "output_type": "execute_result"
    }
   ],
   "source": [
    "a = {}\n",
    "a[((1),(2,3))]= 3\n",
    "a\n",
    "\n",
    "b=[3,4]\n",
    "c=[4,5]\n",
    "d = list(zip(b,c))\n",
    "print(d)\n",
    "e = list(a.keys())\n",
    "e[0][1]"
   ]
  },
  {
   "cell_type": "code",
   "execution_count": 70,
   "metadata": {},
   "outputs": [],
   "source": [
    "class Recommender:\n",
    "    \"\"\"\n",
    "        This is the class to make recommendations.\n",
    "        The class must not require any mandatory arguments for initialization.\n",
    "    \"\"\"\n",
    "    def __init__(self):\n",
    "        self.rules = {}\n",
    "        self.prices = {}\n",
    "\n",
    "\n",
    "    def train(self, prices, database) -> None:\n",
    "        \"\"\"\n",
    "            allows the recommender to learn which items exist, which prices they have, and which items have been purchased together in the past\n",
    "            :param prices: a list of prices in USD for the items (the item ids are from 0 to the length of this list - 1)\n",
    "            :param database: a list of lists of item ids that have been purchased together. Every entry corresponds to one transaction\n",
    "            :return: the object should return itself here (this is actually important!)\n",
    "        \"\"\"\n",
    "        \n",
    "        rules_db = getStrongRulesForDatabase(db=database, minsup=0.01*len(database), minconf=0.3)\n",
    "        premises, conclusions, sup, conf = [], [], [], []\n",
    "\n",
    "        for item in rules_db:\n",
    "            premises.append(tuple(item[0]))\n",
    "            conclusions.append(tuple(item[1]))\n",
    "            sup.append(item[2])\n",
    "            conf.append(item[3])\n",
    "        \n",
    "        temp_rules = list(zip(premises,conclusions))\n",
    "        for i, rule in enumerate(temp_rules):\n",
    "            self.rules[rule] = (sup[i], conf[i])\n",
    "\n",
    "        for i, price in enumerate(prices):\n",
    "            self.prices[i] = price\n",
    "        \n",
    "        print(self.rules)\n",
    "\n",
    "        return self\n",
    "\n",
    "    def get_recommendations(self, cart:list, max_recommendations:int) -> list:\n",
    "        \"\"\"\n",
    "            makes a recommendation to a specific user\n",
    "            \n",
    "            :param cart: a list with the items in the cart\n",
    "            :param max_recommendations: maximum number of items that may be recommended\n",
    "            :return: list of at most `max_recommendations` items to be recommended\n",
    "        \"\"\"\n",
    "\n",
    "        rules = list(self.rules.keys())\n",
    "        premises, conclussions = [],[]\n",
    "        for rule in rules:\n",
    "            premises.append(list(rule[0]))\n",
    "            conclussions.append(list(rule[1]))\n",
    "\n",
    "        possible_recommendations = [0]\n",
    "        for i, premise in enumerate(premises):\n",
    "            if (all(x in premise for x in cart)):\n",
    "                possible_recommendations.append(conclussions[i])\n",
    "\n",
    "        return possible_recommendations[-1]"
   ]
  },
  {
   "cell_type": "code",
   "execution_count": 67,
   "metadata": {},
   "outputs": [],
   "source": [
    "with open('prices.json', 'r') as file:\n",
    "    prices = eval(file.read())\n",
    "\n",
    "with open('training_data.json', 'r') as file:\n",
    "    data = eval(file.read())"
   ]
  },
  {
   "cell_type": "code",
   "execution_count": 77,
   "metadata": {},
   "outputs": [
    {
     "name": "stdout",
     "output_type": "stream",
     "text": [
      "{((4,), (19,)): (252, 0.34615384615384615), ((19, 81), (4,)): (93, 0.3217993079584775), ((4, 81), (19,)): (93, 0.372), ((4, 19), (81,)): (93, 0.36904761904761907), ((4,), (44,)): (221, 0.30357142857142855), ((4,), (62,)): (226, 0.31043956043956045), ((4,), (81,)): (250, 0.3434065934065934), ((6,), (62,)): (206, 0.31643625192012287), ((6,), (81,)): (208, 0.3195084485407066), ((6,), (83,)): (217, 0.3333333333333333), ((8,), (19,)): (163, 0.33608247422680415), ((8,), (44,)): (148, 0.30515463917525776), ((8,), (81,)): (165, 0.3402061855670103), ((17,), (19,)): (210, 0.3211009174311927), ((17,), (81,)): (200, 0.3058103975535168), ((17,), (83,)): (211, 0.32262996941896027), ((18,), (62,)): (182, 0.32616487455197135), ((18,), (87,)): (176, 0.3154121863799283), ((25,), (19,)): (239, 0.3278463648834019), ((44,), (19,)): (260, 0.327455919395466), ((19,), (44,)): (260, 0.3084223013048636), ((59,), (19,)): (108, 0.3050847457627119), ((62,), (19,)): (288, 0.3490909090909091), ((19,), (62,)): (288, 0.3416370106761566), ((67,), (19,)): (131, 0.30045871559633025), ((74,), (19,)): (238, 0.3156498673740053), ((76,), (19,)): (175, 0.30594405594405594), ((81,), (19,)): (289, 0.3368298368298368), ((19,), (81,)): (289, 0.3428232502965599), ((83,), (19,)): (249, 0.3196405648267009), ((87,), (19,)): (252, 0.3103448275862069), ((88,), (19,)): (103, 0.30116959064327486), ((93,), (19,)): (245, 0.3232189973614776), ((56,), (21,)): (228, 0.3011889035667107), ((21,), (56,)): (228, 0.32432432432432434), ((21,), (62,)): (211, 0.30014224751066854), ((21,), (87,)): (227, 0.3229018492176387), ((22,), (87,)): (230, 0.33381712626995647), ((25,), (62,)): (230, 0.31550068587105623), ((25,), (81,)): (248, 0.3401920438957476), ((39,), (81,)): (99, 0.32673267326732675), ((39,), (90,)): (93, 0.3069306930693069), ((44,), (62,)): (239, 0.30100755667506296), ((67,), (44,)): (136, 0.3119266055045872), ((73,), (44,)): (179, 0.30134680134680136), ((76,), (44,)): (175, 0.30594405594405594), ((44,), (81,)): (241, 0.3035264483627204), ((90,), (44,)): (195, 0.300462249614792), ((54,), (81,)): (115, 0.3058510638297872), ((54,), (83,)): (113, 0.300531914893617), ((54,), (87,)): (120, 0.3191489361702128), ((54,), (93,)): (114, 0.30319148936170215), ((84,), (56,)): (213, 0.31140350877192985), ((73,), (62,)): (179, 0.30134680134680136), ((74,), (62,)): (234, 0.3103448275862069), ((76,), (62,)): (181, 0.31643356643356646), ((81,), (62,)): (261, 0.3041958041958042), ((62,), (81,)): (261, 0.31636363636363635), ((84,), (62,)): (211, 0.3084795321637427), ((88,), (62,)): (109, 0.31871345029239767), ((93,), (62,)): (228, 0.3007915567282322), ((63,), (81,)): (203, 0.3237639553429027), ((63,), (93,)): (193, 0.3078149920255183), ((67,), (83,)): (138, 0.3165137614678899), ((73,), (81,)): (192, 0.32323232323232326), ((74,), (81,)): (229, 0.3037135278514589), ((74,), (87,)): (235, 0.3116710875331565), ((83,), (81,)): (249, 0.3196405648267009), ((87,), (81,)): (256, 0.31527093596059114), ((90,), (81,)): (210, 0.3235747303543914), ((93,), (81,)): (250, 0.32981530343007914), ((98,), (81,)): (196, 0.31766612641815234), ((83,), (87,)): (235, 0.30166880616174585), ((84,), (87,)): (239, 0.34941520467836257), ((88,), (87,)): (103, 0.30116959064327486), ((93,), (87,)): (239, 0.3153034300791557), ((98,), (87,)): (203, 0.32901134521880065)}\n",
      "[81]\n"
     ]
    }
   ],
   "source": [
    "recommender = Recommender()\n",
    "recommender.train(prices=prices, database=data)\n",
    "\n",
    "print(recommender.get_recommendations([44], 2))"
   ]
  }
 ],
 "metadata": {
  "kernelspec": {
   "display_name": "Python 3",
   "language": "python",
   "name": "python3"
  },
  "language_info": {
   "codemirror_mode": {
    "name": "ipython",
    "version": 3
   },
   "file_extension": ".py",
   "mimetype": "text/x-python",
   "name": "python",
   "nbconvert_exporter": "python",
   "pygments_lexer": "ipython3",
   "version": "3.11.0"
  }
 },
 "nbformat": 4,
 "nbformat_minor": 2
}
