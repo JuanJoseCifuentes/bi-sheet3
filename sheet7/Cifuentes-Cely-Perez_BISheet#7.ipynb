{
 "cells": [
  {
   "cell_type": "code",
   "execution_count": 47,
   "metadata": {},
   "outputs": [
    {
     "ename": "ModuleNotFoundError",
     "evalue": "No module named 'representatives'",
     "output_type": "error",
     "traceback": [
      "\u001b[1;31m---------------------------------------------------------------------------\u001b[0m",
      "\u001b[1;31mModuleNotFoundError\u001b[0m                       Traceback (most recent call last)",
      "\u001b[1;32mc:\\Users\\gilbe\\Documents\\BI\\bi-sheet3-1\\sheet7\\Cifuentes-Cely-Perez_BISheet#7.ipynb Cell 1\u001b[0m line \u001b[0;36m3\n\u001b[0;32m      <a href='vscode-notebook-cell:/c%3A/Users/gilbe/Documents/BI/bi-sheet3-1/sheet7/Cifuentes-Cely-Perez_BISheet%237.ipynb#W0sZmlsZQ%3D%3D?line=0'>1</a>\u001b[0m \u001b[39mimport\u001b[39;00m \u001b[39mnumpy\u001b[39;00m \u001b[39mas\u001b[39;00m \u001b[39mnp\u001b[39;00m\n\u001b[0;32m      <a href='vscode-notebook-cell:/c%3A/Users/gilbe/Documents/BI/bi-sheet3-1/sheet7/Cifuentes-Cely-Perez_BISheet%237.ipynb#W0sZmlsZQ%3D%3D?line=1'>2</a>\u001b[0m \u001b[39mimport\u001b[39;00m \u001b[39mpandas\u001b[39;00m \u001b[39mas\u001b[39;00m \u001b[39mpd\u001b[39;00m\n\u001b[1;32m----> <a href='vscode-notebook-cell:/c%3A/Users/gilbe/Documents/BI/bi-sheet3-1/sheet7/Cifuentes-Cely-Perez_BISheet%237.ipynb#W0sZmlsZQ%3D%3D?line=2'>3</a>\u001b[0m \u001b[39mfrom\u001b[39;00m \u001b[39mrepresentatives\u001b[39;00m \u001b[39mimport\u001b[39;00m kMeans \u001b[39m# you can use this kMeans in Ex. 3\u001b[39;00m\n",
      "\u001b[1;31mModuleNotFoundError\u001b[0m: No module named 'representatives'"
     ]
    }
   ],
   "source": [
    "import numpy as np\n",
    "import pandas as pd\n",
    "#from representatives import kMeans # you can use this kMeans in Ex. 3"
   ]
  },
  {
   "cell_type": "markdown",
   "metadata": {},
   "source": [
    "# Exercise 1"
   ]
  },
  {
   "cell_type": "code",
   "execution_count": 51,
   "metadata": {},
   "outputs": [],
   "source": [
    "def agglomerativeClustering(D, dist, k=1):\n",
    "    C = [[i] for i in range(len(D))]\n",
    "\n",
    "    while len(C) > k:\n",
    "        distances = np.zeros((len(C), len(C)))\n",
    "\n",
    "        for i in range(len(C)):\n",
    "            for j in range(i + 1, len(C)):\n",
    "                distances[i][j] = dist(D, C[i], C[j])\n",
    "                distances[j][i] = distances[i][j]\n",
    "\n",
    "        min_dist = float()\n",
    "        min_i, min_j = None, None\n",
    "\n",
    "        for i in range(len(C)):\n",
    "            for j in range(i + 1, len(C)):\n",
    "                if distances[i][j] < min_dist:\n",
    "                    min_dist = distances[i][j]\n",
    "                    min_i, min_j = i, j\n",
    "                    \n",
    "        distances[j][i] = distances[i][j]\n",
    "\n",
    "        Ci, Cj = C[min_i], C[min_j]\n",
    "        Cij = Ci + Cj\n",
    "\n",
    "        C = [cluster for id_temp, cluster in enumerate(C) if id_temp != min_i and id_temp != min_j]\n",
    "        C.append(Cij)\n",
    "\n",
    "    cluster_ids = [-1] * len(D)\n",
    "    for i, cluster in enumerate(C):\n",
    "        for point in cluster:\n",
    "            cluster_ids[point] = i\n",
    "\n",
    "    return cluster_ids"
   ]
  },
  {
   "cell_type": "code",
   "execution_count": 52,
   "metadata": {},
   "outputs": [],
   "source": [
    "def singleLink(D, Ci, Cj):\n",
    "    min_dist = float()\n",
    "    for i in Ci:\n",
    "        for j in Cj:\n",
    "            dist_ij = np.linalg.norm(D[i] - D[j])\n",
    "            if dist_ij < min_dist:\n",
    "                min_dist = dist_ij\n",
    "    return min_dist"
   ]
  },
  {
   "cell_type": "code",
   "execution_count": 53,
   "metadata": {},
   "outputs": [],
   "source": [
    "def completeLink(D, Ci, Cj):\n",
    "    max_dist = 0\n",
    "    for i in Ci:\n",
    "        for j in Cj:\n",
    "            dist_ij = np.linalg.norm(D[i] - D[j])\n",
    "            if dist_ij > max_dist:\n",
    "                max_dist = dist_ij\n",
    "    return max_dist"
   ]
  },
  {
   "cell_type": "code",
   "execution_count": 18,
   "metadata": {},
   "outputs": [],
   "source": [
    "def groupAverage():\n",
    "    return"
   ]
  },
  {
   "cell_type": "code",
   "execution_count": 19,
   "metadata": {},
   "outputs": [],
   "source": [
    "def meanDistance():\n",
    "    return"
   ]
  },
  {
   "cell_type": "code",
   "execution_count": 20,
   "metadata": {},
   "outputs": [],
   "source": [
    "def ward():\n",
    "    return"
   ]
  },
  {
   "cell_type": "code",
   "execution_count": 21,
   "metadata": {},
   "outputs": [],
   "source": [
    "def agglomerativeClusteringLW(D, dist, k=1):\n",
    "    return"
   ]
  },
  {
   "cell_type": "code",
   "execution_count": 49,
   "metadata": {},
   "outputs": [
    {
     "name": "stdout",
     "output_type": "stream",
     "text": [
      "setosa/setosa: FAILED. Expected 50 but saw 0\n",
      "setosa/versicolor: FAILED. Expected 0 but saw 36\n",
      "setosa/virginica: FAILED. Expected 0 but saw 1\n",
      "versicolor/setosa: FAILED. Expected 0 but saw 50\n",
      "versicolor/versicolor: FAILED. Expected 14 but saw 0\n",
      "versicolor/virginica: FAILED. Expected 49 but saw 0\n",
      "virginica/setosa: OK\n",
      "virginica/versicolor: FAILED. Expected 36 but saw 14\n",
      "virginica/virginica: FAILED. Expected 1 but saw 49\n"
     ]
    },
    {
     "ename": "NameError",
     "evalue": "name 'groupAverage' is not defined",
     "output_type": "error",
     "traceback": [
      "\u001b[1;31m---------------------------------------------------------------------------\u001b[0m",
      "\u001b[1;31mNameError\u001b[0m                                 Traceback (most recent call last)",
      "\u001b[1;32mc:\\Users\\gilbe\\Documents\\BI\\bi-sheet3-1\\sheet7\\Cifuentes-Cely-Perez_BISheet#7.ipynb Cell 10\u001b[0m line \u001b[0;36m6\n\u001b[0;32m     <a href='vscode-notebook-cell:/c%3A/Users/gilbe/Documents/BI/bi-sheet3-1/sheet7/Cifuentes-Cely-Perez_BISheet%237.ipynb#X12sZmlsZQ%3D%3D?line=60'>61</a>\u001b[0m \u001b[39m# Test Coincidence of Standard and Lance-Williams\u001b[39;00m\n\u001b[0;32m     <a href='vscode-notebook-cell:/c%3A/Users/gilbe/Documents/BI/bi-sheet3-1/sheet7/Cifuentes-Cely-Perez_BISheet%237.ipynb#X12sZmlsZQ%3D%3D?line=61'>62</a>\u001b[0m \u001b[39mfor\u001b[39;00m D \u001b[39min\u001b[39;00m [DIris, pd\u001b[39m.\u001b[39mget_dummies(pd\u001b[39m.\u001b[39mread_csv(\u001b[39m\"\u001b[39m\u001b[39mMall_Customers.csv\u001b[39m\u001b[39m\"\u001b[39m))\u001b[39m.\u001b[39mvalues]:\n\u001b[1;32m---> <a href='vscode-notebook-cell:/c%3A/Users/gilbe/Documents/BI/bi-sheet3-1/sheet7/Cifuentes-Cely-Perez_BISheet%237.ipynb#X12sZmlsZQ%3D%3D?line=62'>63</a>\u001b[0m     \u001b[39mfor\u001b[39;00m pair \u001b[39min\u001b[39;00m [(\u001b[39m\"\u001b[39m\u001b[39msingle\u001b[39m\u001b[39m\"\u001b[39m, singleLink), (\u001b[39m\"\u001b[39m\u001b[39mcomplete\u001b[39m\u001b[39m\"\u001b[39m, completeLink), (\u001b[39m\"\u001b[39m\u001b[39mgroupavg\u001b[39m\u001b[39m\"\u001b[39m, groupAverage), (\u001b[39m\"\u001b[39m\u001b[39mward\u001b[39m\u001b[39m\"\u001b[39m, ward)]:\n\u001b[0;32m     <a href='vscode-notebook-cell:/c%3A/Users/gilbe/Documents/BI/bi-sheet3-1/sheet7/Cifuentes-Cely-Perez_BISheet%237.ipynb#X12sZmlsZQ%3D%3D?line=63'>64</a>\u001b[0m         C_ac \u001b[39m=\u001b[39m np\u001b[39m.\u001b[39marray(agglomerativeClustering(D, pair[\u001b[39m1\u001b[39m], k\u001b[39m=\u001b[39m\u001b[39m3\u001b[39m))\n\u001b[0;32m     <a href='vscode-notebook-cell:/c%3A/Users/gilbe/Documents/BI/bi-sheet3-1/sheet7/Cifuentes-Cely-Perez_BISheet%237.ipynb#X12sZmlsZQ%3D%3D?line=64'>65</a>\u001b[0m         C_aclw \u001b[39m=\u001b[39m np\u001b[39m.\u001b[39marray(try_unification(C_ac, agglomerativeClusteringLW(D, pair[\u001b[39m0\u001b[39m], k\u001b[39m=\u001b[39m\u001b[39m3\u001b[39m)))\n",
      "\u001b[1;31mNameError\u001b[0m: name 'groupAverage' is not defined"
     ]
    }
   ],
   "source": [
    "from sklearn.decomposition import PCA\n",
    "\n",
    "'''\n",
    "  Tries to make clustering c2 equal to clustering c1 by renaming the cluster names.\n",
    "  If the clusterings are effectively equivalent, the output will be equal to c1.\n",
    "'''\n",
    "def try_unification(c1, c2):\n",
    "    v1 = list(np.unique(c1))\n",
    "    v2 = list(np.unique(c2))\n",
    "    new_vals = []\n",
    "    if len(c1) != len(c2):\n",
    "        print(\"Cannot unify clusterings of different lengths!\")\n",
    "        return None\n",
    "    if len(v1) != len(v2):\n",
    "        print(\"Cannot unify clusterings of different numbers of clusters!\")\n",
    "        return None\n",
    "    \n",
    "    \n",
    "    # use different symbols for clusterings\n",
    "    i = 0\n",
    "    for v in v2:\n",
    "        c = \"v\" + str(i)\n",
    "        while c in v1:\n",
    "            i +=1\n",
    "            c = \"v\" + str(i)\n",
    "        new_vals.append(c)\n",
    "        i += 1\n",
    "    c_new = [new_vals[v2.index(i)] for i in c2]\n",
    "    \n",
    "    # replace occurrences\n",
    "    targets = []\n",
    "    for symbol in new_vals:\n",
    "        first_index = c_new.index(symbol)\n",
    "        replace_symbol = None\n",
    "        for v in c1:\n",
    "            if not v in targets:\n",
    "                replace_symbol = v\n",
    "                break\n",
    "        if replace_symbol in targets:\n",
    "            print(\"Warning: No unification possible, the symbol \" + replace_symbol + \" has already been addressed before!\")\n",
    "            return None\n",
    "        \n",
    "        c_new = [replace_symbol if v == symbol else v for v in c_new]\n",
    "        targets.append(replace_symbol)\n",
    "    return c_new\n",
    "\n",
    "# Test Complete Link on Iris (PCA)\n",
    "dfIris = pd.read_csv(\"iris.csv\")\n",
    "DIris = PCA(n_components=2).fit_transform(dfIris.values[:,:4])\n",
    "labelsIris = list(pd.unique(dfIris[\"species\"]))\n",
    "C_perfect = np.array([labelsIris.index(l) for l in dfIris[\"species\"]])\n",
    "C_iris = np.array(try_unification(C_perfect, agglomerativeClustering(DIris, completeLink, k=3)))\n",
    "M_expected = np.array([[50, 0, 0], [0, 14, 49], [0, 36, 1]]) # according to slide 13\n",
    "for i in range(3):\n",
    "    cond1 = C_iris == i\n",
    "    for j in range(3):\n",
    "        cond2 = C_perfect == j\n",
    "        cnt_combo = np.count_nonzero(cond1 & cond2)\n",
    "        print(labelsIris[i] + \"/\" + labelsIris[j] + \": \" + (\"OK\" if cnt_combo == M_expected[i,j] else \"FAILED. Expected \" + str(M_expected[i,j]) + \" but saw \" + str(cnt_combo)))\n",
    "\n",
    "# Test Coincidence of Standard and Lance-Williams\n",
    "for D in [DIris, pd.get_dummies(pd.read_csv(\"Mall_Customers.csv\")).values]:\n",
    "    for pair in [(\"single\", singleLink), (\"complete\", completeLink), (\"groupavg\", groupAverage), (\"ward\", ward)]:\n",
    "        C_ac = np.array(agglomerativeClustering(D, pair[1], k=3))\n",
    "        C_aclw = np.array(try_unification(C_ac, agglomerativeClusteringLW(D, pair[0], k=3)))\n",
    "        mismatches = C_ac != C_aclw\n",
    "        print(pair[0] + (\" OK\" if np.count_nonzero(mismatches) == 0 else (\" FAILED. Difference in positions: \" + str(np.where(mismatches)[0]) + \": \" + str(C_ac[mismatches]) + \" vs \" + str(C_aclw[mismatches]))))"
   ]
  },
  {
   "cell_type": "markdown",
   "metadata": {},
   "source": [
    "# Exercise 2"
   ]
  },
  {
   "cell_type": "code",
   "execution_count": null,
   "metadata": {},
   "outputs": [],
   "source": [
    "df_mall = pd.read_csv(\"Mall_Customers.csv\")\n",
    "\n",
    "#k=5\n",
    "#Run Aglomerative Clustering with Single Link\n",
    "\n",
    "#Run Aglomerative Clustering with Group Average\n",
    "\n",
    "#Run Aglomerative Clustering LW with Single Link\n",
    "\n",
    "#Run Aglomerative Clustering LW with Group Average"
   ]
  },
  {
   "cell_type": "code",
   "execution_count": null,
   "metadata": {},
   "outputs": [],
   "source": [
    "def getBestProjection(A, C, targetdims=2):"
   ]
  },
  {
   "cell_type": "code",
   "execution_count": null,
   "metadata": {},
   "outputs": [],
   "source": [
    "#Plot 6x2 for every dataset"
   ]
  }
 ],
 "metadata": {
  "kernelspec": {
   "display_name": "Python 3",
   "language": "python",
   "name": "python3"
  },
  "language_info": {
   "codemirror_mode": {
    "name": "ipython",
    "version": 3
   },
   "file_extension": ".py",
   "mimetype": "text/x-python",
   "name": "python",
   "nbconvert_exporter": "python",
   "pygments_lexer": "ipython3",
   "version": "3.11.4"
  },
  "orig_nbformat": 4
 },
 "nbformat": 4,
 "nbformat_minor": 2
}
