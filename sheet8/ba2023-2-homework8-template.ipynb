{
 "cells": [
  {
   "cell_type": "code",
   "execution_count": 44,
   "metadata": {},
   "outputs": [],
   "source": [
    "import numpy as np\n",
    "import pandas as pd\n",
    "\n",
    "def read_database(file):\n",
    "    db = []\n",
    "    with open(file) as f:\n",
    "        lineList = f.readlines()\n",
    "        for line in lineList:\n",
    "            line = line.strip()\n",
    "            li = line.split(\" \")\n",
    "            row = []\n",
    "            for v in li:\n",
    "                row.append(v)\n",
    "            db.append(row)\n",
    "    return db"
   ]
  },
  {
   "cell_type": "code",
   "execution_count": null,
   "metadata": {},
   "outputs": [],
   "source": [
    "### HINT ON UNIT TESTS ###\n",
    "### All unit tests assume that itemsets are ordered lexicographically.\n",
    "### An itemset [B, A] is NOT valid! It must be [A, B]! This convention allows extreme speed up."
   ]
  },
  {
   "cell_type": "code",
   "execution_count": 62,
   "metadata": {},
   "outputs": [
    {
     "name": "stdout",
     "output_type": "stream",
     "text": [
      "   Frequent Itemset  Support\n",
      "0               {0}        0\n",
      "1               {1}        0\n",
      "2               {2}        0\n",
      "3               {3}        0\n",
      "4               {4}        0\n",
      "5               {5}        0\n",
      "6               {6}        0\n",
      "7               {7}        0\n",
      "8               {8}        0\n",
      "9               {9}        0\n",
      "10             {10}        0\n",
      "11             {11}        0\n",
      "12             {12}        0\n",
      "13             {13}        0\n",
      "14             {14}        0\n",
      "15             {15}        0\n"
     ]
    }
   ],
   "source": [
    "import pandas as pd\n",
    "from collections import defaultdict\n",
    "\n",
    "def eclat(db, minsup):\n",
    "    def generate_frequent_itemsets(P, minsup, F):\n",
    "        for Xa, t_Xa in P:\n",
    "            F.append((Xa, sup(t_Xa)))\n",
    "            Pa = []\n",
    "            for Xb, t_Xb in P:\n",
    "                if Xb > Xa:\n",
    "                    Xab = Xa.union(Xb)\n",
    "                    t_Xab = t_Xa.intersection(t_Xb)\n",
    "                    if len(t_Xab) >= minsup:\n",
    "                        Pa.append((Xab, t_Xab))\n",
    "            if Pa:\n",
    "                generate_frequent_itemsets(Pa, minsup, F)\n",
    "    \n",
    "    def sup(itemset):\n",
    "        return sum(1 for transaction in db if itemset.issubset(set(transaction)))\n",
    "\n",
    "    P = [(set([i]), set(range(len(db)))) for i in range(len(db[0]))]\n",
    "    F = []\n",
    "    generate_frequent_itemsets(P, minsup, F)\n",
    "\n",
    "    frequent_itemsets_df = pd.DataFrame(F, columns=['Frequent Itemset', 'Support'])\n",
    "    return frequent_itemsets_df\n",
    "\n",
    "\n",
    "\n",
    "shop_dataset = read_database(\"shop.dat\")\n",
    "\n",
    "minsup = 500  \n",
    "\n",
    "result_df = eclat(shop_dataset, minsup)\n",
    "\n",
    "print(result_df)\n"
   ]
  },
  {
   "cell_type": "code",
   "execution_count": null,
   "metadata": {},
   "outputs": [],
   "source": [
    "def getStrongRulesFromFrequentSets(fsets, minconf):\n",
    "    return"
   ]
  },
  {
   "cell_type": "code",
   "execution_count": null,
   "metadata": {},
   "outputs": [],
   "source": [
    "def getStrongRulesForDatabase(db, minsup, minconf):\n",
    "    \n",
    "\n",
    "    return"
   ]
  },
  {
   "cell_type": "code",
   "execution_count": 63,
   "metadata": {},
   "outputs": [
    {
     "name": "stdout",
     "output_type": "stream",
     "text": [
      "Entry Frequent Itemset in frequent itemset collection F is not a tuple.\n",
      "Entry Support in frequent itemset collection F is not a tuple.\n",
      "Syntax check on frequent itemset collection: FAILED\n",
      "Length of collection: FAILED, expected length 19 but saw 4\n"
     ]
    },
    {
     "ename": "TypeError",
     "evalue": "unhashable type: 'list'",
     "output_type": "error",
     "traceback": [
      "\u001b[0;31m---------------------------------------------------------------------------\u001b[0m",
      "\u001b[0;31mTypeError\u001b[0m                                 Traceback (most recent call last)",
      "\u001b[1;32m/Users/melissaperez/Documents/2023-2/BI/Sheet 8/bi-sheet3/sheet8/ba2023-2-homework8-template.ipynb Celda 6\u001b[0m line \u001b[0;36m4\n\u001b[1;32m     <a href='vscode-notebook-cell:/Users/melissaperez/Documents/2023-2/BI/Sheet%208/bi-sheet3/sheet8/ba2023-2-homework8-template.ipynb#W5sZmlsZQ%3D%3D?line=37'>38</a>\u001b[0m \u001b[39m# Test ECLAT\u001b[39;00m\n\u001b[1;32m     <a href='vscode-notebook-cell:/Users/melissaperez/Documents/2023-2/BI/Sheet%208/bi-sheet3/sheet8/ba2023-2-homework8-template.ipynb#W5sZmlsZQ%3D%3D?line=38'>39</a>\u001b[0m F_act \u001b[39m=\u001b[39m eclat(dbExample, \u001b[39m3\u001b[39m)\n\u001b[0;32m---> <a href='vscode-notebook-cell:/Users/melissaperez/Documents/2023-2/BI/Sheet%208/bi-sheet3/sheet8/ba2023-2-homework8-template.ipynb#W5sZmlsZQ%3D%3D?line=39'>40</a>\u001b[0m testFrequentItemsetCollection(F_exp, F_act)\n",
      "\u001b[1;32m/Users/melissaperez/Documents/2023-2/BI/Sheet 8/bi-sheet3/sheet8/ba2023-2-homework8-template.ipynb Celda 6\u001b[0m line \u001b[0;36m2\n\u001b[1;32m     <a href='vscode-notebook-cell:/Users/melissaperez/Documents/2023-2/BI/Sheet%208/bi-sheet3/sheet8/ba2023-2-homework8-template.ipynb#W5sZmlsZQ%3D%3D?line=25'>26</a>\u001b[0m \u001b[39mprint\u001b[39m(\u001b[39m\"\u001b[39m\u001b[39mLength of collection: \u001b[39m\u001b[39m\"\u001b[39m \u001b[39m+\u001b[39m \u001b[39mstr\u001b[39m(\u001b[39m\"\u001b[39m\u001b[39mOK\u001b[39m\u001b[39m\"\u001b[39m \u001b[39mif\u001b[39;00m length_exp \u001b[39m==\u001b[39m length_act \u001b[39melse\u001b[39;00m \u001b[39m\"\u001b[39m\u001b[39mFAILED, expected length \u001b[39m\u001b[39m\"\u001b[39m \u001b[39m+\u001b[39m \u001b[39mstr\u001b[39m(length_exp) \u001b[39m+\u001b[39m \u001b[39m\"\u001b[39m\u001b[39m but saw \u001b[39m\u001b[39m\"\u001b[39m \u001b[39m+\u001b[39m \u001b[39mstr\u001b[39m(length_act)))\n\u001b[1;32m     <a href='vscode-notebook-cell:/Users/melissaperez/Documents/2023-2/BI/Sheet%208/bi-sheet3/sheet8/ba2023-2-homework8-template.ipynb#W5sZmlsZQ%3D%3D?line=26'>27</a>\u001b[0m obsolete \u001b[39m=\u001b[39m [f \u001b[39mfor\u001b[39;00m f \u001b[39min\u001b[39;00m F_act \u001b[39mif\u001b[39;00m \u001b[39mnot\u001b[39;00m f \u001b[39min\u001b[39;00m F_exp]\n\u001b[0;32m---> <a href='vscode-notebook-cell:/Users/melissaperez/Documents/2023-2/BI/Sheet%208/bi-sheet3/sheet8/ba2023-2-homework8-template.ipynb#W5sZmlsZQ%3D%3D?line=27'>28</a>\u001b[0m missing \u001b[39m=\u001b[39m [f \u001b[39mfor\u001b[39;49;00m f \u001b[39min\u001b[39;49;00m F_exp \u001b[39mif\u001b[39;49;00m \u001b[39mnot\u001b[39;49;00m f \u001b[39min\u001b[39;49;00m F_act]\n\u001b[1;32m     <a href='vscode-notebook-cell:/Users/melissaperez/Documents/2023-2/BI/Sheet%208/bi-sheet3/sheet8/ba2023-2-homework8-template.ipynb#W5sZmlsZQ%3D%3D?line=28'>29</a>\u001b[0m \u001b[39mif\u001b[39;00m obsolete:\n\u001b[1;32m     <a href='vscode-notebook-cell:/Users/melissaperez/Documents/2023-2/BI/Sheet%208/bi-sheet3/sheet8/ba2023-2-homework8-template.ipynb#W5sZmlsZQ%3D%3D?line=29'>30</a>\u001b[0m     \u001b[39mprint\u001b[39m(\u001b[39m\"\u001b[39m\u001b[39mFound unexpected entries in F: \u001b[39m\u001b[39m\"\u001b[39m \u001b[39m+\u001b[39m \u001b[39mstr\u001b[39m(obsolete))\n",
      "\u001b[1;32m/Users/melissaperez/Documents/2023-2/BI/Sheet 8/bi-sheet3/sheet8/ba2023-2-homework8-template.ipynb Celda 6\u001b[0m line \u001b[0;36m2\n\u001b[1;32m     <a href='vscode-notebook-cell:/Users/melissaperez/Documents/2023-2/BI/Sheet%208/bi-sheet3/sheet8/ba2023-2-homework8-template.ipynb#W5sZmlsZQ%3D%3D?line=25'>26</a>\u001b[0m \u001b[39mprint\u001b[39m(\u001b[39m\"\u001b[39m\u001b[39mLength of collection: \u001b[39m\u001b[39m\"\u001b[39m \u001b[39m+\u001b[39m \u001b[39mstr\u001b[39m(\u001b[39m\"\u001b[39m\u001b[39mOK\u001b[39m\u001b[39m\"\u001b[39m \u001b[39mif\u001b[39;00m length_exp \u001b[39m==\u001b[39m length_act \u001b[39melse\u001b[39;00m \u001b[39m\"\u001b[39m\u001b[39mFAILED, expected length \u001b[39m\u001b[39m\"\u001b[39m \u001b[39m+\u001b[39m \u001b[39mstr\u001b[39m(length_exp) \u001b[39m+\u001b[39m \u001b[39m\"\u001b[39m\u001b[39m but saw \u001b[39m\u001b[39m\"\u001b[39m \u001b[39m+\u001b[39m \u001b[39mstr\u001b[39m(length_act)))\n\u001b[1;32m     <a href='vscode-notebook-cell:/Users/melissaperez/Documents/2023-2/BI/Sheet%208/bi-sheet3/sheet8/ba2023-2-homework8-template.ipynb#W5sZmlsZQ%3D%3D?line=26'>27</a>\u001b[0m obsolete \u001b[39m=\u001b[39m [f \u001b[39mfor\u001b[39;00m f \u001b[39min\u001b[39;00m F_act \u001b[39mif\u001b[39;00m \u001b[39mnot\u001b[39;00m f \u001b[39min\u001b[39;00m F_exp]\n\u001b[0;32m---> <a href='vscode-notebook-cell:/Users/melissaperez/Documents/2023-2/BI/Sheet%208/bi-sheet3/sheet8/ba2023-2-homework8-template.ipynb#W5sZmlsZQ%3D%3D?line=27'>28</a>\u001b[0m missing \u001b[39m=\u001b[39m [f \u001b[39mfor\u001b[39;00m f \u001b[39min\u001b[39;00m F_exp \u001b[39mif\u001b[39;00m \u001b[39mnot\u001b[39;00m f \u001b[39min\u001b[39;49;00m F_act]\n\u001b[1;32m     <a href='vscode-notebook-cell:/Users/melissaperez/Documents/2023-2/BI/Sheet%208/bi-sheet3/sheet8/ba2023-2-homework8-template.ipynb#W5sZmlsZQ%3D%3D?line=28'>29</a>\u001b[0m \u001b[39mif\u001b[39;00m obsolete:\n\u001b[1;32m     <a href='vscode-notebook-cell:/Users/melissaperez/Documents/2023-2/BI/Sheet%208/bi-sheet3/sheet8/ba2023-2-homework8-template.ipynb#W5sZmlsZQ%3D%3D?line=29'>30</a>\u001b[0m     \u001b[39mprint\u001b[39m(\u001b[39m\"\u001b[39m\u001b[39mFound unexpected entries in F: \u001b[39m\u001b[39m\"\u001b[39m \u001b[39m+\u001b[39m \u001b[39mstr\u001b[39m(obsolete))\n",
      "File \u001b[0;32m/Library/Frameworks/Python.framework/Versions/3.11/lib/python3.11/site-packages/pandas/core/generic.py:1927\u001b[0m, in \u001b[0;36mNDFrame.__contains__\u001b[0;34m(self, key)\u001b[0m\n\u001b[1;32m   1924\u001b[0m \u001b[39m@final\u001b[39m\n\u001b[1;32m   1925\u001b[0m \u001b[39mdef\u001b[39;00m \u001b[39m__contains__\u001b[39m(\u001b[39mself\u001b[39m, key) \u001b[39m-\u001b[39m\u001b[39m>\u001b[39m bool_t:\n\u001b[1;32m   1926\u001b[0m \u001b[39m    \u001b[39m\u001b[39m\"\"\"True if the key is in the info axis\"\"\"\u001b[39;00m\n\u001b[0;32m-> 1927\u001b[0m     \u001b[39mreturn\u001b[39;00m key \u001b[39min\u001b[39;49;00m \u001b[39mself\u001b[39;49m\u001b[39m.\u001b[39;49m_info_axis\n",
      "File \u001b[0;32m/Library/Frameworks/Python.framework/Versions/3.11/lib/python3.11/site-packages/pandas/core/indexes/base.py:5144\u001b[0m, in \u001b[0;36mIndex.__contains__\u001b[0;34m(self, key)\u001b[0m\n\u001b[1;32m   5109\u001b[0m \u001b[39mdef\u001b[39;00m \u001b[39m__contains__\u001b[39m(\u001b[39mself\u001b[39m, key: Any) \u001b[39m-\u001b[39m\u001b[39m>\u001b[39m \u001b[39mbool\u001b[39m:\n\u001b[1;32m   5110\u001b[0m \u001b[39m    \u001b[39m\u001b[39m\"\"\"\u001b[39;00m\n\u001b[1;32m   5111\u001b[0m \u001b[39m    Return a boolean indicating whether the provided key is in the index.\u001b[39;00m\n\u001b[1;32m   5112\u001b[0m \n\u001b[0;32m   (...)\u001b[0m\n\u001b[1;32m   5142\u001b[0m \u001b[39m    False\u001b[39;00m\n\u001b[1;32m   5143\u001b[0m \u001b[39m    \"\"\"\u001b[39;00m\n\u001b[0;32m-> 5144\u001b[0m     \u001b[39mhash\u001b[39m(key)\n\u001b[1;32m   5145\u001b[0m     \u001b[39mtry\u001b[39;00m:\n\u001b[1;32m   5146\u001b[0m         \u001b[39mreturn\u001b[39;00m key \u001b[39min\u001b[39;00m \u001b[39mself\u001b[39m\u001b[39m.\u001b[39m_engine\n",
      "\u001b[0;31mTypeError\u001b[0m: unhashable type: 'list'"
     ]
    }
   ],
   "source": [
    "## Unit test\n",
    "import pandas as pd\n",
    "dbExample = read_database(\"example.dat\")\n",
    "\n",
    "def testSyntax(F):\n",
    "    found_problem = False\n",
    "    for t in F:\n",
    "        if type(t) != tuple:\n",
    "            print(\"Entry \" + str(t) + \" in frequent itemset collection F is not a tuple.\")\n",
    "            found_problem = True\n",
    "        elif len(t) != 2:\n",
    "            print(\"Entry \" + str(t) + \" in frequent itemset collection F is a tuple but of length \" + str(len(t)) + \" instead of 2.\")\n",
    "            found_problem = True\n",
    "        elif type(t[0]) != list:\n",
    "            print(\"Itemset type in entry \" + str(t) + \" is \" + str(type(t[0])) + \" but should be list!\")\n",
    "            found_problem = True\n",
    "        elif type(t[1]) != int:\n",
    "            print(\"Support in entry \" + str(t) + \" is of type \" + str(type(t[1])) + \" but should be int!\")\n",
    "            found_problem = True\n",
    "    print(\"Syntax check on frequent itemset collection: \" + (\"FAILED\" if found_problem else \"OK\"))\n",
    "\n",
    "def testFrequentItemsetCollection(F_exp, F_act):\n",
    "    testSyntax(F_act)\n",
    "    length_exp = len(F_exp)\n",
    "    length_act = len(F_act)\n",
    "    print(\"Length of collection: \" + str(\"OK\" if length_exp == length_act else \"FAILED, expected length \" + str(length_exp) + \" but saw \" + str(length_act)))\n",
    "    obsolete = [f for f in F_act if not f in F_exp]\n",
    "    missing = [f for f in F_exp if not f in F_act]\n",
    "    if obsolete:\n",
    "        print(\"Found unexpected entries in F: \" + str(obsolete))\n",
    "    if missing:\n",
    "        print(\"Missing entries in F: \" + str(missing))\n",
    "    if not missing and not obsolete:\n",
    "        print(\"F seems to be correct.\")\n",
    "\n",
    "F_exp = [(['A'], 4), (['A', 'B'], 4), (['A', 'B', 'D'], 3), (['A', 'B', 'D', 'E'], 3), (['A', 'B', 'E'], 4), (['A', 'D'], 3), (['A', 'D', 'E'], 3), (['A', 'E'], 4), (['B'], 6), (['B', 'C'], 4), (['B', 'C', 'E'], 3), (['B', 'D'], 4), (['B', 'D', 'E'], 3), (['B', 'E'], 5), (['C'], 4), (['C', 'E'], 3), (['D'], 4), (['D', 'E'], 3), (['E'], 5)]\n",
    "\n",
    "# Test ECLAT\n",
    "F_act = eclat(dbExample, 3)\n",
    "testFrequentItemsetCollection(F_exp, F_act)"
   ]
  },
  {
   "cell_type": "code",
   "execution_count": null,
   "metadata": {},
   "outputs": [],
   "source": [
    "def testRuleGeneration(R_exp, R_act):\n",
    "\n",
    "    # test syntax\n",
    "    found_problem = False\n",
    "    for r in R_act:\n",
    "        if type(r) != tuple:\n",
    "            print(\"Rule \" + str(r) + \" is not represented as a tuple!\")\n",
    "            found_problem = True\n",
    "        if len(r) != 4:\n",
    "            print(\"Rule \" + str(r) + \" does not consist of 4 entries. Should be (premise, conclusion, (absolute) support, confidence)\")\n",
    "            found_problem = True\n",
    "        if type(r[0]) != list:\n",
    "            print(\"Premise of rule \" + str(r) + \" is of type \" + str(type(r[0])) + \" but should be list!\")\n",
    "            found_problem = True\n",
    "        if type(r[1]) != list:\n",
    "            print(\"Conclusion of rule \" + str(r) + \" is of type \" + str(type(r[0])) + \" but should be list!\")\n",
    "            found_problem = True\n",
    "    print(\"Syntax check \" + (\"FAILED. Skipping rest of the test.\" if found_problem else \"OK\"))\n",
    "    if found_problem:\n",
    "        return\n",
    "    \n",
    "    # semantics test\n",
    "    length_exp = len(R_exp)\n",
    "    length_act = len(R_act)\n",
    "    print(\"Length of rule set: \" + str(\"OK\" if length_exp == length_act else \"FAILED, expected length \" + str(length_exp) + \" but saw \" + str(length_act)))\n",
    "    obsolete = [f for f in R_act if not f in R_exp]\n",
    "    missing = [f for f in R_exp if not f in R_act]\n",
    "    if obsolete:\n",
    "        print(\"Found unexpected entries in R: \" + str(obsolete))\n",
    "        found_problem = True\n",
    "    if missing:\n",
    "        print(\"Missing entries in R: \" + str(missing))\n",
    "        found_problem = True\n",
    "    print(\"Rule set test: \" + (\"FAILED\" if found_problem else \"OK\"))\n",
    "\n",
    "R_exp = [(['A'], ['B'], 4, 1.0), (['A', 'D'], ['B'], 3, 1.0), (['B', 'D', 'E'], ['A'], 3, 1.0), (['A', 'D', 'E'], ['B'], 3, 1.0), (['A', 'B', 'D'], ['E'], 3, 1.0), (['D', 'E'], ['A', 'B'], 3, 1.0), (['A', 'D'], ['B', 'E'], 3, 1.0), (['A', 'E'], ['B'], 4, 1.0), (['A', 'B'], ['E'], 4, 1.0), (['A'], ['B', 'E'], 4, 1.0), (['D', 'E'], ['A'], 3, 1.0), (['A', 'D'], ['E'], 3, 1.0), (['A'], ['E'], 4, 1.0), (['C'], ['B'], 4, 1.0), (['C', 'E'], ['B'], 3, 1.0), (['D'], ['B'], 4, 1.0), (['D', 'E'], ['B'], 3, 1.0), (['E'], ['B'], 5, 1.0)]\n",
    "R_act = getStrongRulesForDatabase(dbExample, 3, 1.0)\n",
    "testRuleGeneration(R_exp, R_act)"
   ]
  }
 ],
 "metadata": {
  "kernelspec": {
   "display_name": "Python 3",
   "language": "python",
   "name": "python3"
  },
  "language_info": {
   "codemirror_mode": {
    "name": "ipython",
    "version": 3
   },
   "file_extension": ".py",
   "mimetype": "text/x-python",
   "name": "python",
   "nbconvert_exporter": "python",
   "pygments_lexer": "ipython3",
   "version": "3.11.4"
  }
 },
 "nbformat": 4,
 "nbformat_minor": 4
}
